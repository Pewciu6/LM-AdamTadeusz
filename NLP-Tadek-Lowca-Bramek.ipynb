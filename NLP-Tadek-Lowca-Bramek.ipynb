{
 "cells": [
  {
   "cell_type": "code",
   "execution_count": 1,
   "id": "b760acc3-b557-4774-a956-e9523077965f",
   "metadata": {},
   "outputs": [
    {
     "name": "stdout",
     "output_type": "stream",
     "text": [
      "Using cuda\n"
     ]
    },
    {
     "name": "stderr",
     "output_type": "stream",
     "text": [
      "C:\\Users\\litwi\\AppData\\Local\\Programs\\Python\\Python312\\Lib\\site-packages\\tqdm\\auto.py:21: TqdmWarning: IProgress not found. Please update jupyter and ipywidgets. See https://ipywidgets.readthedocs.io/en/stable/user_install.html\n",
      "  from .autonotebook import tqdm as notebook_tqdm\n"
     ]
    }
   ],
   "source": [
    "import torch\n",
    "import torch.nn as nn\n",
    "import torch.optim as optim\n",
    "import numpy as np\n",
    "import random\n",
    "import math\n",
    "from tqdm.auto import tqdm\n",
    "\n",
    "import warnings\n",
    "warnings.filterwarnings(\"ignore\")\n",
    "\n",
    "\n",
    "\n",
    "device = \"cuda\" if torch.cuda.is_available() else \"cpu\"\n",
    "print(f'Using {device}') "
   ]
  },
  {
   "cell_type": "markdown",
   "id": "857a800a-a261-4397-85a2-7e6ba9200547",
   "metadata": {},
   "source": [
    "# Preparing Data"
   ]
  },
  {
   "cell_type": "code",
   "execution_count": 2,
   "id": "8f60b6d0-fec6-4595-a4b5-15e8bd7fbe74",
   "metadata": {},
   "outputs": [
    {
     "name": "stdout",
     "output_type": "stream",
     "text": [
      "100% [..............................................................................] 48457 / 48457Alfabet:  \n",
      "   ! ( ) * , - . / 1 2 8 : ; ? A B C D E F G H I J K L M N O P R S T U V W Z a b c d e f g h i j k l m n o p q r s t u v w x y z « » Ó à æ é ó ą Ć ć ę Ł ł ń Ś ś Ź ź Ż ż — … ﻿\n",
      "Dlugosc tekstu:  380303 31205 44951\n",
      "Liczba liter: 89\n"
     ]
    }
   ],
   "source": [
    "import codecs\n",
    "import requests\n",
    "import torch\n",
    "import wget\n",
    "\n",
    "\n",
    "URLS = {\n",
    "   \"train\": \"https://piotrmicek.staff.tcs.uj.edu.pl/machine-learning/data/pan_tadeusz_1_10.txt\",\n",
    "   \"valid\": \"https://piotrmicek.staff.tcs.uj.edu.pl/machine-learning/data/pan_tadeusz_11.txt\",\n",
    "   \"test\": \"https://piotrmicek.staff.tcs.uj.edu.pl/machine-learning/data/pan_tadeusz_12.txt\",\n",
    "}\n",
    "BATCH_SIZE = 32\n",
    "\n",
    "\n",
    "\n",
    "\n",
    "def read_data(filename):\n",
    "   with codecs.open(filename, encoding='utf-8') as f:\n",
    "       return f.read()\n",
    "\n",
    "\n",
    "\n",
    "\n",
    "def get_texts(urls):\n",
    "   texts = {}\n",
    "   for part, url in urls.items():\n",
    "       filename = wget.download(url)\n",
    "       texts[part] = read_data(filename)\n",
    "   return texts\n",
    "\n",
    "\n",
    "\n",
    "\n",
    "def chars_to_ids(raw_data, char_to_id):\n",
    "   data = torch.zeros(len(raw_data), dtype=torch.long)\n",
    "   for i in range(len(raw_data)):\n",
    "       data[i] = char_to_id[raw_data[i]]\n",
    "   return data\n",
    "\n",
    "\n",
    "\n",
    "\n",
    "def batchify(data, batch_size):\n",
    "   nbatch = data.size(0) // batch_size\n",
    "   data = data[:nbatch * batch_size]\n",
    "   data = data.view(batch_size, -1).t().contiguous()\n",
    "   return data\n",
    "\n",
    "\n",
    "\n",
    "\n",
    "texts = get_texts(URLS)\n",
    "alphabet = list(sorted(set(texts[\"train\"] + texts[\"valid\"] + texts[\"test\"])))\n",
    "vocab_size = len(alphabet)\n",
    "char_to_id = dict(zip(alphabet, range(vocab_size)))\n",
    "id_to_char = {id: letter for id, letter in enumerate(char_to_id)}\n",
    "\n",
    "\n",
    "train_data = batchify(chars_to_ids(texts[\"train\"], char_to_id), BATCH_SIZE)\n",
    "valid_data = batchify(chars_to_ids(texts[\"valid\"], char_to_id), BATCH_SIZE)\n",
    "test_data = batchify(chars_to_ids(texts[\"test\"], char_to_id), BATCH_SIZE)\n",
    "\n",
    "train_data = train_data.to(device)\n",
    "valid_data = valid_data.to(device)\n",
    "test_data = test_data.to(device)\n",
    "\n",
    "\n",
    "print(\"Alfabet: \", \" \".join(alphabet))\n",
    "print(\"Dlugosc tekstu: \", len(texts[\"train\"]), len(texts[\"valid\"]), len(texts[\"test\"]))\n",
    "print(\"Liczba liter:\", vocab_size)\n"
   ]
  },
  {
   "cell_type": "code",
   "execution_count": 3,
   "id": "4149c091-1d77-49d1-95c2-972a0fe43348",
   "metadata": {},
   "outputs": [
    {
     "name": "stdout",
     "output_type": "stream",
     "text": [
      "Dane treningowe: tensor([[88, 75, 40,  ...,  2, 44, 76],\n",
      "        [27,  9, 58,  ..., 86, 51, 50],\n",
      "        [58,  1,  9,  ...,  1, 48, 60],\n",
      "        ...,\n",
      "        [43, 60, 40,  ...,  2, 65,  2],\n",
      "        [65,  2, 85,  ...,  2, 42, 54],\n",
      "        [48, 53,  2,  ..., 35, 65, 46]], device='cuda:0')\n",
      "Dane walidacyjne: tensor([[88,  2, 54,  ..., 40, 78,  7],\n",
      "        [27,  2, 57,  ..., 62, 54,  2],\n",
      "        [58,  2, 73,  ..., 58, 85, 43],\n",
      "        ...,\n",
      "        [ 1,  2,  7,  ..., 54, 40, 42],\n",
      "        [ 0, 42,  1,  ...,  2, 57, 65],\n",
      "        [ 2, 47,  0,  ..., 62, 40, 62]], device='cuda:0')\n",
      "Dane testowe: tensor([[88, 52,  0,  ..., 59, 55, 55],\n",
      "        [27, 42, 19,  ..., 54, 78, 40],\n",
      "        [58, 65, 65,  ...,  2, 40, 52],\n",
      "        ...,\n",
      "        [ 2, 54, 58,  ...,  2, 51, 41],\n",
      "        [35,  9, 48,  ..., 65, 44, 78],\n",
      "        [64,  1, 76,  ..., 40,  2, 40]], device='cuda:0')\n"
     ]
    }
   ],
   "source": [
    "print(f'Dane treningowe: {train_data}')\n",
    "print(f'Dane walidacyjne: {valid_data}')\n",
    "print(f'Dane testowe: {test_data}')"
   ]
  },
  {
   "cell_type": "code",
   "execution_count": 4,
   "id": "e794c7a9-632c-4650-acfa-8b6a1d3d74a4",
   "metadata": {},
   "outputs": [
    {
     "name": "stdout",
     "output_type": "stream",
     "text": [
      "Train shape: torch.Size([11884, 32])\n",
      "Valid shape: torch.Size([975, 32])\n",
      "Test shape: torch.Size([1404, 32])\n"
     ]
    }
   ],
   "source": [
    "print(f'Train shape: {train_data.shape}')\n",
    "print(f'Valid shape: {valid_data.shape}')\n",
    "print(f'Test shape: {test_data.shape}')"
   ]
  },
  {
   "cell_type": "markdown",
   "id": "051f6f75-2bb7-475f-8bb9-2565b02fdfd7",
   "metadata": {},
   "source": [
    "# Tworzenie modelu opartego o architekture LSTM"
   ]
  },
  {
   "cell_type": "code",
   "execution_count": 5,
   "id": "7b8a5016-584f-45db-8932-0b6994111da6",
   "metadata": {},
   "outputs": [],
   "source": [
    "import torch\n",
    "import torch.nn as nn\n",
    "\n",
    "class CharLSTM(nn.Module):\n",
    "    def __init__(self, vocab_size, embed_dim, hidden_dim, num_layers, dropout):\n",
    "        super(CharLSTM, self).__init__()\n",
    "        self.vocab_size = vocab_size\n",
    "        self.embed_dim = embed_dim\n",
    "        self.hidden_dim = hidden_dim\n",
    "        self.num_layers = num_layers\n",
    "        self.dropout = dropout\n",
    "\n",
    "        \n",
    "        self.embedding = nn.Embedding(vocab_size, embed_dim)\n",
    "        self.dropout_Embedding = nn.Dropout(dropout)\n",
    "\n",
    "        \n",
    "        self.lstm = nn.LSTM(embed_dim, hidden_dim, num_layers)\n",
    "        self.dropout_LSTM = nn.Dropout(dropout)\n",
    "\n",
    "        \n",
    "        self.output_layer = nn.Linear(hidden_size, vocab_size)\n",
    "\n",
    "    def forward(self, x, hidden):\n",
    "\n",
    "        x = self.embedding(x)\n",
    "        x = self.dropout_Embedding(x)\n",
    "\n",
    "        y, hidden = self.lstm(x, hidden)\n",
    "        y = self.dropout_LSTM(y)\n",
    "\n",
    "        output = self.output_layer(y)\n",
    "        return output, hidden\n",
    "        "
   ]
  },
  {
   "cell_type": "code",
   "execution_count": 6,
   "id": "26eaf386-d983-4540-a33b-8332534a29a2",
   "metadata": {},
   "outputs": [],
   "source": [
    "embedding_size = 128\n",
    "hidden_size = 512\n",
    "num_layers = 4\n",
    "dropout = 0.7\n",
    "learning_rate = 0.001\n",
    "epochs = 30\n",
    "seq_len = 100\n",
    "\n",
    "model = CharLSTM(vocab_size, embedding_size, hidden_size, num_layers, dropout).to(device)\n",
    "criterion = nn.CrossEntropyLoss()\n",
    "optimizer = optim.Adam(model.parameters(), lr=learning_rate)"
   ]
  },
  {
   "cell_type": "markdown",
   "id": "092c95f4-ccad-4b30-a238-9ad8ce7af61e",
   "metadata": {},
   "source": [
    "# Writing needed functions"
   ]
  },
  {
   "cell_type": "code",
   "execution_count": 7,
   "id": "cba7ecf0-9062-411d-9050-4fe06d23eb08",
   "metadata": {},
   "outputs": [],
   "source": [
    "def get_batch(source, i, seq_len):\n",
    "    data = source[i:i+seq_len]\n",
    "    target = source[i+1:i+1+seq_len].view(-1)\n",
    "    return data, target"
   ]
  },
  {
   "cell_type": "code",
   "execution_count": 8,
   "id": "0b087fe4-7278-4fbc-8a85-24a1f0a60a9c",
   "metadata": {},
   "outputs": [],
   "source": [
    "def evaluate(model, data, criterion, batch_size, device):\n",
    "    model.eval()\n",
    "    total_loss = 0\n",
    "    total_chars = 0\n",
    "    hidden = None\n",
    "    \n",
    "    with torch.no_grad():\n",
    "        for i in range(0, data.size(0) - 1, batch_size):\n",
    "            seq_len = min(batch_size, data.size(0) - 1 - i)\n",
    "            batch_data, batch_target = get_batch(data, i, seq_len)\n",
    "            \n",
    "            output, hidden = model(batch_data, hidden)\n",
    "            hidden = (hidden[0].detach(), hidden[1].detach())\n",
    "            \n",
    "            loss = criterion(output.view(-1, model.vocab_size), batch_target)\n",
    "            total_loss += loss.item() * seq_len * batch_size\n",
    "            total_chars += seq_len * batch_size\n",
    "    \n",
    "    return math.exp(total_loss / total_chars)"
   ]
  },
  {
   "cell_type": "markdown",
   "id": "0b5ffedd-9b9b-412b-af2b-aff821b79002",
   "metadata": {},
   "source": [
    "# Train step"
   ]
  },
  {
   "cell_type": "code",
   "execution_count": 9,
   "id": "72e8bc4d-a8e7-4ee5-aa35-54325c6cfe30",
   "metadata": {},
   "outputs": [
    {
     "name": "stderr",
     "output_type": "stream",
     "text": [
      "  3%|██▊                                                                                | 1/30 [00:07<03:46,  7.80s/it]"
     ]
    },
    {
     "name": "stdout",
     "output_type": "stream",
     "text": [
      "Epoch 1:\n",
      "Train Loss: 3.0526 | PPL: 21.17\n",
      "Val Loss: 2.4437 | PPL: 11.52\n"
     ]
    },
    {
     "name": "stderr",
     "output_type": "stream",
     "text": [
      "  7%|█████▌                                                                             | 2/30 [00:14<03:28,  7.44s/it]"
     ]
    },
    {
     "name": "stdout",
     "output_type": "stream",
     "text": [
      "Epoch 2:\n",
      "Train Loss: 2.3573 | PPL: 10.56\n",
      "Val Loss: 2.1967 | PPL: 9.00\n"
     ]
    },
    {
     "name": "stderr",
     "output_type": "stream",
     "text": [
      " 10%|████████▎                                                                          | 3/30 [00:22<03:19,  7.39s/it]"
     ]
    },
    {
     "name": "stdout",
     "output_type": "stream",
     "text": [
      "Epoch 3:\n",
      "Train Loss: 2.1745 | PPL: 8.80\n",
      "Val Loss: 2.0672 | PPL: 7.90\n"
     ]
    },
    {
     "name": "stderr",
     "output_type": "stream",
     "text": [
      " 13%|███████████                                                                        | 4/30 [00:29<03:11,  7.38s/it]"
     ]
    },
    {
     "name": "stdout",
     "output_type": "stream",
     "text": [
      "Epoch 4:\n",
      "Train Loss: 2.0512 | PPL: 7.78\n",
      "Val Loss: 1.9596 | PPL: 7.10\n"
     ]
    },
    {
     "name": "stderr",
     "output_type": "stream",
     "text": [
      " 17%|█████████████▊                                                                     | 5/30 [00:36<03:01,  7.26s/it]"
     ]
    },
    {
     "name": "stdout",
     "output_type": "stream",
     "text": [
      "Epoch 5:\n",
      "Train Loss: 1.9498 | PPL: 7.03\n",
      "Val Loss: 1.8755 | PPL: 6.52\n"
     ]
    },
    {
     "name": "stderr",
     "output_type": "stream",
     "text": [
      " 20%|████████████████▌                                                                  | 6/30 [00:43<02:54,  7.25s/it]"
     ]
    },
    {
     "name": "stdout",
     "output_type": "stream",
     "text": [
      "Epoch 6:\n",
      "Train Loss: 1.8646 | PPL: 6.45\n",
      "Val Loss: 1.8130 | PPL: 6.13\n"
     ]
    },
    {
     "name": "stderr",
     "output_type": "stream",
     "text": [
      " 23%|███████████████████▎                                                               | 7/30 [00:51<02:47,  7.29s/it]"
     ]
    },
    {
     "name": "stdout",
     "output_type": "stream",
     "text": [
      "Epoch 7:\n",
      "Train Loss: 1.7968 | PPL: 6.03\n",
      "Val Loss: 1.7687 | PPL: 5.86\n"
     ]
    },
    {
     "name": "stderr",
     "output_type": "stream",
     "text": [
      " 27%|██████████████████████▏                                                            | 8/30 [00:58<02:40,  7.29s/it]"
     ]
    },
    {
     "name": "stdout",
     "output_type": "stream",
     "text": [
      "Epoch 8:\n",
      "Train Loss: 1.7373 | PPL: 5.68\n",
      "Val Loss: 1.7306 | PPL: 5.64\n"
     ]
    },
    {
     "name": "stderr",
     "output_type": "stream",
     "text": [
      " 30%|████████████████████████▉                                                          | 9/30 [01:05<02:32,  7.26s/it]"
     ]
    },
    {
     "name": "stdout",
     "output_type": "stream",
     "text": [
      "Epoch 9:\n",
      "Train Loss: 1.6920 | PPL: 5.43\n",
      "Val Loss: 1.7064 | PPL: 5.51\n"
     ]
    },
    {
     "name": "stderr",
     "output_type": "stream",
     "text": [
      " 33%|███████████████████████████▎                                                      | 10/30 [01:13<02:25,  7.26s/it]"
     ]
    },
    {
     "name": "stdout",
     "output_type": "stream",
     "text": [
      "Epoch 10:\n",
      "Train Loss: 1.6489 | PPL: 5.20\n",
      "Val Loss: 1.6867 | PPL: 5.40\n"
     ]
    },
    {
     "name": "stderr",
     "output_type": "stream",
     "text": [
      " 37%|██████████████████████████████                                                    | 11/30 [01:20<02:17,  7.25s/it]"
     ]
    },
    {
     "name": "stdout",
     "output_type": "stream",
     "text": [
      "Epoch 11:\n",
      "Train Loss: 1.6104 | PPL: 5.00\n",
      "Val Loss: 1.6674 | PPL: 5.30\n"
     ]
    },
    {
     "name": "stderr",
     "output_type": "stream",
     "text": [
      " 40%|████████████████████████████████▊                                                 | 12/30 [01:27<02:11,  7.30s/it]"
     ]
    },
    {
     "name": "stdout",
     "output_type": "stream",
     "text": [
      "Epoch 12:\n",
      "Train Loss: 1.5778 | PPL: 4.84\n",
      "Val Loss: 1.6596 | PPL: 5.26\n"
     ]
    },
    {
     "name": "stderr",
     "output_type": "stream",
     "text": [
      " 43%|███████████████████████████████████▌                                              | 13/30 [01:34<02:03,  7.27s/it]"
     ]
    },
    {
     "name": "stdout",
     "output_type": "stream",
     "text": [
      "Epoch 13:\n",
      "Train Loss: 1.5457 | PPL: 4.69\n",
      "Val Loss: 1.6536 | PPL: 5.23\n"
     ]
    },
    {
     "name": "stderr",
     "output_type": "stream",
     "text": [
      " 47%|██████████████████████████████████████▎                                           | 14/30 [01:42<01:55,  7.25s/it]"
     ]
    },
    {
     "name": "stdout",
     "output_type": "stream",
     "text": [
      "Epoch 14:\n",
      "Train Loss: 1.5184 | PPL: 4.57\n",
      "Val Loss: 1.6470 | PPL: 5.19\n"
     ]
    },
    {
     "name": "stderr",
     "output_type": "stream",
     "text": [
      " 50%|█████████████████████████████████████████                                         | 15/30 [01:49<01:48,  7.25s/it]"
     ]
    },
    {
     "name": "stdout",
     "output_type": "stream",
     "text": [
      "Epoch 15:\n",
      "Train Loss: 1.4875 | PPL: 4.43\n",
      "Val Loss: 1.6469 | PPL: 5.19\n"
     ]
    },
    {
     "name": "stderr",
     "output_type": "stream",
     "text": [
      " 53%|███████████████████████████████████████████▋                                      | 16/30 [01:56<01:41,  7.24s/it]"
     ]
    },
    {
     "name": "stdout",
     "output_type": "stream",
     "text": [
      "Epoch 16:\n",
      "Train Loss: 1.4588 | PPL: 4.30\n",
      "Val Loss: 1.6454 | PPL: 5.18\n"
     ]
    },
    {
     "name": "stderr",
     "output_type": "stream",
     "text": [
      " 57%|██████████████████████████████████████████████▍                                   | 17/30 [02:03<01:34,  7.25s/it]"
     ]
    },
    {
     "name": "stdout",
     "output_type": "stream",
     "text": [
      "Epoch 17:\n",
      "Train Loss: 1.4346 | PPL: 4.20\n",
      "Val Loss: 1.6467 | PPL: 5.19\n"
     ]
    },
    {
     "name": "stderr",
     "output_type": "stream",
     "text": [
      " 60%|█████████████████████████████████████████████████▏                                | 18/30 [02:11<01:27,  7.28s/it]"
     ]
    },
    {
     "name": "stdout",
     "output_type": "stream",
     "text": [
      "Epoch 18:\n",
      "Train Loss: 1.4104 | PPL: 4.10\n",
      "Val Loss: 1.6526 | PPL: 5.22\n"
     ]
    },
    {
     "name": "stderr",
     "output_type": "stream",
     "text": [
      " 63%|███████████████████████████████████████████████████▉                              | 19/30 [02:18<01:19,  7.23s/it]"
     ]
    },
    {
     "name": "stdout",
     "output_type": "stream",
     "text": [
      "Epoch 19:\n",
      "Train Loss: 1.3895 | PPL: 4.01\n",
      "Val Loss: 1.6514 | PPL: 5.21\n"
     ]
    },
    {
     "name": "stderr",
     "output_type": "stream",
     "text": [
      " 67%|██████████████████████████████████████████████████████▋                           | 20/30 [02:25<01:12,  7.27s/it]"
     ]
    },
    {
     "name": "stdout",
     "output_type": "stream",
     "text": [
      "Epoch 20:\n",
      "Train Loss: 1.3662 | PPL: 3.92\n",
      "Val Loss: 1.6690 | PPL: 5.31\n"
     ]
    },
    {
     "name": "stderr",
     "output_type": "stream",
     "text": [
      " 70%|█████████████████████████████████████████████████████████▍                        | 21/30 [02:33<01:05,  7.29s/it]"
     ]
    },
    {
     "name": "stdout",
     "output_type": "stream",
     "text": [
      "Epoch 21:\n",
      "Train Loss: 1.3393 | PPL: 3.82\n",
      "Val Loss: 1.6894 | PPL: 5.42\n"
     ]
    },
    {
     "name": "stderr",
     "output_type": "stream",
     "text": [
      " 73%|████████████████████████████████████████████████████████████▏                     | 22/30 [02:40<00:57,  7.24s/it]"
     ]
    },
    {
     "name": "stdout",
     "output_type": "stream",
     "text": [
      "Epoch 22:\n",
      "Train Loss: 1.3172 | PPL: 3.73\n",
      "Val Loss: 1.6963 | PPL: 5.45\n"
     ]
    },
    {
     "name": "stderr",
     "output_type": "stream",
     "text": [
      " 77%|██████████████████████████████████████████████████████████████▊                   | 23/30 [02:47<00:50,  7.21s/it]"
     ]
    },
    {
     "name": "stdout",
     "output_type": "stream",
     "text": [
      "Epoch 23:\n",
      "Train Loss: 1.2952 | PPL: 3.65\n",
      "Val Loss: 1.7044 | PPL: 5.50\n"
     ]
    },
    {
     "name": "stderr",
     "output_type": "stream",
     "text": [
      " 80%|█████████████████████████████████████████████████████████████████▌                | 24/30 [02:54<00:43,  7.21s/it]"
     ]
    },
    {
     "name": "stdout",
     "output_type": "stream",
     "text": [
      "Epoch 24:\n",
      "Train Loss: 1.2701 | PPL: 3.56\n",
      "Val Loss: 1.7159 | PPL: 5.56\n"
     ]
    },
    {
     "name": "stderr",
     "output_type": "stream",
     "text": [
      " 83%|████████████████████████████████████████████████████████████████████▎             | 25/30 [03:02<00:36,  7.33s/it]"
     ]
    },
    {
     "name": "stdout",
     "output_type": "stream",
     "text": [
      "Epoch 25:\n",
      "Train Loss: 1.2465 | PPL: 3.48\n",
      "Val Loss: 1.7359 | PPL: 5.67\n"
     ]
    },
    {
     "name": "stderr",
     "output_type": "stream",
     "text": [
      " 87%|███████████████████████████████████████████████████████████████████████           | 26/30 [03:09<00:29,  7.28s/it]"
     ]
    },
    {
     "name": "stdout",
     "output_type": "stream",
     "text": [
      "Epoch 26:\n",
      "Train Loss: 1.2281 | PPL: 3.41\n",
      "Val Loss: 1.7588 | PPL: 5.81\n"
     ]
    },
    {
     "name": "stderr",
     "output_type": "stream",
     "text": [
      " 90%|█████████████████████████████████████████████████████████████████████████▊        | 27/30 [03:16<00:21,  7.26s/it]"
     ]
    },
    {
     "name": "stdout",
     "output_type": "stream",
     "text": [
      "Epoch 27:\n",
      "Train Loss: 1.2054 | PPL: 3.34\n",
      "Val Loss: 1.7844 | PPL: 5.96\n"
     ]
    },
    {
     "name": "stderr",
     "output_type": "stream",
     "text": [
      " 93%|████████████████████████████████████████████████████████████████████████████▌     | 28/30 [03:23<00:14,  7.23s/it]"
     ]
    },
    {
     "name": "stdout",
     "output_type": "stream",
     "text": [
      "Epoch 28:\n",
      "Train Loss: 1.1876 | PPL: 3.28\n",
      "Val Loss: 1.7938 | PPL: 6.01\n"
     ]
    },
    {
     "name": "stderr",
     "output_type": "stream",
     "text": [
      " 97%|███████████████████████████████████████████████████████████████████████████████▎  | 29/30 [03:30<00:07,  7.21s/it]"
     ]
    },
    {
     "name": "stdout",
     "output_type": "stream",
     "text": [
      "Epoch 29:\n",
      "Train Loss: 1.1660 | PPL: 3.21\n",
      "Val Loss: 1.8056 | PPL: 6.08\n"
     ]
    },
    {
     "name": "stderr",
     "output_type": "stream",
     "text": [
      "100%|██████████████████████████████████████████████████████████████████████████████████| 30/30 [03:37<00:00,  7.26s/it]"
     ]
    },
    {
     "name": "stdout",
     "output_type": "stream",
     "text": [
      "Epoch 30:\n",
      "Train Loss: 1.1419 | PPL: 3.13\n",
      "Val Loss: 1.8262 | PPL: 6.21\n"
     ]
    },
    {
     "name": "stderr",
     "output_type": "stream",
     "text": [
      "\n"
     ]
    }
   ],
   "source": [
    "from tqdm.auto import tqdm\n",
    "\n",
    "losses = np.zeros(epochs)\n",
    "train_ppl = np.zeros(epochs)\n",
    "val_ppl = np.zeros(epochs)\n",
    "\n",
    "for epoch in tqdm(range(epochs)):\n",
    "    model.train()\n",
    "    epoch_loss = 0\n",
    "    total_chars = 0\n",
    "    hidden = None\n",
    "\n",
    "    for i in range(0, train_data.size(0) - 1 - seq_len, seq_len):\n",
    "\n",
    "        X = train_data[i:i+seq_len]\n",
    "        y = train_data[i+1:i+1+seq_len].view(-1)\n",
    "        \n",
    "\n",
    "        optimizer.zero_grad()\n",
    "        y_hat, hidden = model(X, hidden)\n",
    "        \n",
    "\n",
    "        hidden = (hidden[0].detach(), hidden[1].detach())\n",
    "        \n",
    "\n",
    "        loss = criterion(y_hat.view(-1, model.vocab_size), y)\n",
    "        epoch_loss += loss.item() * seq_len * BATCH_SIZE\n",
    "        total_chars += seq_len * BATCH_SIZE\n",
    "        \n",
    "        loss.backward()\n",
    "        torch.nn.utils.clip_grad_norm_(model.parameters(), 5.0)\n",
    "        optimizer.step()\n",
    "\n",
    "    losses[epoch] = epoch_loss / total_chars\n",
    "    train_ppl[epoch] = math.exp(losses[epoch])\n",
    "\n",
    "    model.eval()\n",
    "    val_loss = 0\n",
    "    val_chars = 0\n",
    "    hidden = None\n",
    "    \n",
    "    with torch.no_grad():\n",
    "        for i in range(0, valid_data.size(0) - 1 - seq_len, seq_len):\n",
    "            X = valid_data[i:i+seq_len]\n",
    "            y = valid_data[i+1:i+1+seq_len].view(-1)\n",
    "            \n",
    "            y_hat, hidden = model(X, hidden)\n",
    "            hidden = (hidden[0].detach(), hidden[1].detach())\n",
    "            \n",
    "            loss = criterion(y_hat.view(-1, model.vocab_size), y)\n",
    "            val_loss += loss.item() * seq_len * BATCH_SIZE\n",
    "            val_chars += seq_len * BATCH_SIZE\n",
    "    \n",
    "    val_ppl[epoch] = math.exp(val_loss / val_chars)\n",
    "\n",
    "    print(f'Epoch {epoch+1}:')\n",
    "    print(f'Train Loss: {losses[epoch]:.4f} | PPL: {train_ppl[epoch]:.2f}')\n",
    "    print(f'Val Loss: {val_loss/val_chars:.4f} | PPL: {val_ppl[epoch]:.2f}')\n"
   ]
  },
  {
   "cell_type": "code",
   "execution_count": 10,
   "id": "70dca0f1-10f1-4145-a5b0-b781e070a9b1",
   "metadata": {},
   "outputs": [
    {
     "data": {
      "image/png": "[encoded data removed]",
      "text/plain": [
       "<Figure size 1000x500 with 1 Axes>"
      ]
     },
     "metadata": {},
     "output_type": "display_data"
    }
   ],
   "source": [
    "import matplotlib.pyplot as plt\n",
    "\n",
    "plt.figure(figsize=(10,5))\n",
    "plt.plot(losses, 'ks-', label='Loss')\n",
    "plt.plot(train_ppl, 'bs-', label='Train PPL')\n",
    "plt.plot(val_ppl, 'gs-', label='Validation PPL')\n",
    "plt.xlabel('Epoch')\n",
    "plt.ylabel('Perplexity')\n",
    "plt.legend()\n",
    "plt.show()"
   ]
  },
  {
   "cell_type": "code",
   "execution_count": 11,
   "id": "4363d004-ea33-454e-b5cc-aea84a5d725f",
   "metadata": {},
   "outputs": [
    {
     "data": {
      "image/png": "[encoded data removed]",
      "text/plain": [
       "<Figure size 1200x600 with 1 Axes>"
      ]
     },
     "metadata": {},
     "output_type": "display_data"
    }
   ],
   "source": [
    "plt.figure(figsize=(12,6))\n",
    "plt.plot(train_ppl, 'b.-', label='Train PPL')\n",
    "plt.plot(val_ppl, 'r.-', label='Validation PPL')\n",
    "plt.axhline(y=5.0, color='gray', linestyle='--', label='Target PPL')\n",
    "plt.title('Training Progress (Current Best: {:.2f})'.format(min(val_ppl)))\n",
    "plt.xlabel('Epoch')\n",
    "plt.ylabel('Perplexity')\n",
    "plt.legend()\n",
    "plt.grid(True)\n",
    "plt.show()"
   ]
  },
  {
   "cell_type": "code",
   "execution_count": 12,
   "id": "a33d5701-633d-45c0-9826-4b0888775de5",
   "metadata": {},
   "outputs": [
    {
     "name": "stdout",
     "output_type": "stream",
     "text": [
      "Final Test Perplexity: 6.02\n"
     ]
    }
   ],
   "source": [
    "test_loss = 0\n",
    "test_chars = 0\n",
    "hidden = None\n",
    "\n",
    "model.eval()\n",
    "with torch.no_grad():\n",
    "    for i in range(0, test_data.size(0) - 1 - seq_len, seq_len):\n",
    "        X = test_data[i:i+seq_len]\n",
    "        y = test_data[i+1:i+1+seq_len].view(-1)\n",
    "        \n",
    "        y_hat, hidden = model(X, hidden)\n",
    "        hidden = (hidden[0].detach(), hidden[1].detach())\n",
    "        \n",
    "        loss = criterion(y_hat.view(-1, model.vocab_size), y)\n",
    "        test_loss += loss.item() * seq_len * BATCH_SIZE\n",
    "        test_chars += seq_len * BATCH_SIZE\n",
    "\n",
    "final_ppl = math.exp(test_loss / test_chars)\n",
    "print(f'Final Test Perplexity: {final_ppl:.2f}')"
   ]
  },
  {
   "cell_type": "markdown",
   "id": "2f064ff9-4af3-4dca-bb43-995411d5d29d",
   "metadata": {},
   "source": [
    "# No to dawaj mordo Mickiewicza"
   ]
  },
  {
   "cell_type": "code",
   "execution_count": 13,
   "id": "1f8280d9-b8da-4da5-8a64-3cf23c270e13",
   "metadata": {},
   "outputs": [
    {
     "data": {
      "text/plain": [
       "'Litwo! Ojczyzno moja!\\r\\n\\r\\n    W tej chwili w pole wyprawie młodzież o tym słowa\\r\\nI pod strzechy z wolna w pole wyprawie słońcem,\\r\\nA po chwili w pole idącego się szczytach,\\r\\nW końcu stał z przychodzi i z wolna pod strzechą,\\r\\nI po prawo stał pod niego po raz po raz po prawa.\\r\\nWidzisz szeroko z podejmie i stanął w powiecie,\\r\\nI pod nim stało w pole idącego szpadę,\\r\\nI po chwili w pole idącego się szczytach,\\r\\nW końcu stał z przychodzi i z wolna pod strzechą,\\r\\nI po prawo stał pod niego po raz po raz po prawa.\\r\\nWidzisz szeroko z podejmie i stanął w powiecie,\\r\\nI pod nim stało w pole idącego szpadę,\\r\\nI po chwili w pole idącego się szczytach,\\r\\nW końcu stał z przychodzi i z wolna pod strzechą,\\r\\nI po prawo stał pod niego po raz po raz po prawa.\\r\\nWidzisz szeroko z podejmie i stanął w powiecie,\\r\\nI pod nim stało w pole idącego szpadę,\\r\\nI po chwili w pole idącego się szczytach,\\r\\nW końcu stał z przychodzi i z wolna pod strzechą,\\r\\nI po prawo stał pod niego po raz po raz po prawa.\\r\\nWidzisz szeroko z podejmie i stanął w powieci'"
      ]
     },
     "execution_count": 13,
     "metadata": {},
     "output_type": "execute_result"
    }
   ],
   "source": [
    "def generate_text(model, start_text, char_to_id, id_to_char, device, length=250):\n",
    "    model.eval()\n",
    "    \n",
    "    char_ids = [char_to_id[char] for char in start_text]\n",
    "    generated_text = start_text\n",
    "    hidden = None\n",
    "    \n",
    "    for char_id in char_ids:\n",
    "        current_char = torch.tensor([[char_id]], device=device)\n",
    "        _, hidden = model(current_char, hidden)\n",
    "    \n",
    "    current_char = torch.tensor([[char_ids[-1]]], device=device)\n",
    "    \n",
    "    for _ in range(length):\n",
    "        output, hidden = model(current_char, hidden)\n",
    "        \n",
    "        next_char_id = torch.argmax(output).item()\n",
    "        \n",
    "        current_char[0][0] = next_char_id\n",
    "        generated_text += id_to_char[next_char_id]\n",
    "    \n",
    "    return generated_text\n",
    "\n",
    "generate_text(model, \"Litwo! Ojczyzno moja!\", char_to_id, id_to_char, device, length=1000)"
   ]
  },
  {
   "cell_type": "markdown",
   "id": "43bae4a9-ae9e-485a-8646-ec530d7c7bcc",
   "metadata": {},
   "source": [
    "# And how does our Adam \"write\" while learning ?"
   ]
  },
  {
   "cell_type": "code",
   "execution_count": 16,
   "id": "76a9da7d-efc6-4140-b54c-dfe4800cec84",
   "metadata": {},
   "outputs": [],
   "source": [
    "pro = CharLSTM(vocab_size, embedding_size, hidden_size, num_layers, dropout).to(device)\n",
    "criterion = nn.CrossEntropyLoss()\n",
    "optimizer = optim.Adam(pro.parameters(), lr=learning_rate)"
   ]
  },
  {
   "cell_type": "code",
   "execution_count": 17,
   "id": "d8729ca9-c686-4941-bec9-6ebccf167d0b",
   "metadata": {},
   "outputs": [
    {
     "name": "stderr",
     "output_type": "stream",
     "text": [
      " 10%|████████▎                                                                          | 3/30 [00:22<03:20,  7.43s/it]"
     ]
    },
    {
     "name": "stdout",
     "output_type": "stream",
     "text": [
      "Jam jest Jaceki,\n",
      "I po strzele się z pod strzele się z pod pod pod pod pod pod wierzył,\n",
      "I po strzele się z pod strzele się z pod pod pod pod pod pod wierzył,\n",
      "I po strzele się z pod strzele się z pod pod pod pod pod pod wierzył,\n",
      "I po strzele się z pod strzele się z pod pod pod pod pod pod wierzył,\n",
      "I po strzele się z pod strzele się z pod pod pod pod pod pod w\n"
     ]
    },
    {
     "name": "stderr",
     "output_type": "stream",
     "text": [
      " 20%|████████████████▌                                                                  | 6/30 [00:43<02:53,  7.22s/it]"
     ]
    },
    {
     "name": "stdout",
     "output_type": "stream",
     "text": [
      "Jam jest Jaceki,\n",
      "I z powierza się z powierza się z powierzem w pole,\n",
      "I z powierza się z powierza się z powierzem w pole,\n",
      "I z powierza się z powierza się z powierzem w pole,\n",
      "I z powierza się z powierza się z powierzem w pole,\n",
      "I z powierza się z powierza się z powierzem w pole,\n",
      "I z powierza się z powierza się z powierzem w pole,\n",
      "I z powierza się z powierza \n"
     ]
    },
    {
     "name": "stderr",
     "output_type": "stream",
     "text": [
      " 30%|████████████████████████▉                                                          | 9/30 [01:04<02:32,  7.24s/it]"
     ]
    },
    {
     "name": "stdout",
     "output_type": "stream",
     "text": [
      "Jam jest Jaceka,\n",
      "I po czym wielkie po strzelby za strony w pole,\n",
      "I po czasu w pole w pole w pole w pole się z pole,\n",
      "I po czasu w pole w pole w pole w pole się z pole,\n",
      "I po czasu w pole w pole w pole w pole się z pole,\n",
      "I po czasu w pole w pole w pole w pole się z pole,\n",
      "I po czasu w pole w pole w pole w pole się z pole,\n",
      "I po czasu w pole w pole w pole w pol\n"
     ]
    },
    {
     "name": "stderr",
     "output_type": "stream",
     "text": [
      " 40%|████████████████████████████████▊                                                 | 12/30 [01:26<02:09,  7.21s/it]"
     ]
    },
    {
     "name": "stdout",
     "output_type": "stream",
     "text": [
      "Jam jest Jaceki,\n",
      "I po czasie wielkie za stołem za stołem w pole,\n",
      "I z powietrzu na pole w pole w pole w pole,\n",
      "I z powietrzu na pole w pole w pole w pole,\n",
      "I z powietrzu na pole w pole w pole w pole,\n",
      "I z powietrzu na pole w pole w pole w pole,\n",
      "I z powietrzu na pole w pole w pole w pole,\n",
      "I z powietrzu na pole w pole w pole w pole,\n",
      "I z powietrzu na pole w pol\n"
     ]
    },
    {
     "name": "stderr",
     "output_type": "stream",
     "text": [
      " 50%|█████████████████████████████████████████                                         | 15/30 [01:47<01:48,  7.25s/it]"
     ]
    },
    {
     "name": "stdout",
     "output_type": "stream",
     "text": [
      "Jam jest Jaceki — Wojski z powiecie — Wojski z powiecie — Wojski z powiecie — Wojski z powiecie — Wojski z powiecie — Wojski z powiecie — Wojski z powiecie — Wojski z powiecie — Wojski z powiecie — Wojski z powiecie — Wojski z powiecie — Wojski z powiecie — Wojski z powiecie — Wojski z powiecie — Wojski z powiecie — Wojski z powiecie — Wojski z powiecie — Wojski\n"
     ]
    },
    {
     "name": "stderr",
     "output_type": "stream",
     "text": [
      " 60%|█████████████████████████████████████████████████▏                                | 18/30 [02:09<01:27,  7.28s/it]"
     ]
    },
    {
     "name": "stdout",
     "output_type": "stream",
     "text": [
      "Jam jest Jaceki — Wojski z powietrze — Wojski z powieście — Wojski z powieście — Wojski z powieście — Wojski z powieście — Wojski z powieście — Wojski z powieście — Wojski z powieście — Wojski z powieście — Wojski z powieście — Wojski z powieście — Wojski z powieście — Wojski z powieście — Wojski z powieście — Wojski z powieście — Wojski z powieście — Wojski z p\n"
     ]
    },
    {
     "name": "stderr",
     "output_type": "stream",
     "text": [
      " 70%|█████████████████████████████████████████████████████████▍                        | 21/30 [02:31<01:06,  7.35s/it]"
     ]
    },
    {
     "name": "stdout",
     "output_type": "stream",
     "text": [
      "Jam jest Jaceki,\n",
      "W której pod stołu i z powietrzu na stodoły,\n",
      "I po czasie starca na polowanie strony\n",
      "I pod stołu i z powietrzu i strony wysłał,\n",
      "I po czasie pod stołu i z powodu wybierzem.\n",
      "\n",
      "    «Widzi się to za nim stał w powietrzu na stołu,\n",
      "A w końcu podniósłszy od stołu i stoły,\n",
      "I po czasie pod stołu i z powodu wybierzem.\n",
      "\n",
      "    «Widzi się to za nim sta\n"
     ]
    },
    {
     "name": "stderr",
     "output_type": "stream",
     "text": [
      " 80%|█████████████████████████████████████████████████████████████████▌                | 24/30 [02:53<00:44,  7.37s/it]"
     ]
    },
    {
     "name": "stdout",
     "output_type": "stream",
     "text": [
      "Jam jest Jaceka,\n",
      "A widzi to nie wiedząc, wszystko się z powodu\n",
      "I po cichu za szlachty i postać na koniec,\n",
      "I po chwili wszystkich nie zaszkodził po kolei.\n",
      "\n",
      "    W tej strony nie mogła nie wiedząc, że się z powiecie,\n",
      "I po chwili wszystkich nie zaszkodził się z podoba.\n",
      "\n",
      "    W tej strony nie mogła nie wiedząc, że się z powiecie,\n",
      "I po chwili wszystkich nie za\n"
     ]
    },
    {
     "name": "stderr",
     "output_type": "stream",
     "text": [
      " 90%|█████████████████████████████████████████████████████████████████████████▊        | 27/30 [03:14<00:21,  7.25s/it]"
     ]
    },
    {
     "name": "stdout",
     "output_type": "stream",
     "text": [
      "Jam jest Jaceki — Wojski z Soplicy!»\n",
      "\n",
      "    «Więc — rzekł Sędzia — z powoli w końcu się zabierać,\n",
      "A w tym zamku, a nie wiedząc, że się za stołem,\n",
      "I po co też po co porządku i z podłożyć.\n",
      "\n",
      "    Tadeusz z przeciwnik się z podobać się z pokoju.\n",
      "\n",
      "    Tadeusz z przeciwnik się z podobać się z pokoju.\n",
      "\n",
      "    Tadeusz z przeciwnik się z podobać się z pokoju.\n",
      "\n",
      "    \n"
     ]
    },
    {
     "name": "stderr",
     "output_type": "stream",
     "text": [
      "100%|██████████████████████████████████████████████████████████████████████████████████| 30/30 [03:35<00:00,  7.18s/it]"
     ]
    },
    {
     "name": "stdout",
     "output_type": "stream",
     "text": [
      "Jam jest Jacek —\n",
      "Przerwał Sędzia — z panem Sędziego spodem złocie,\n",
      "A wiesz co się też po co się z nim pod strzechy,\n",
      "A w karczmach i strony nie zwierza obawił,\n",
      "I po cichu za strzelby z niebytnością skłonił,\n",
      "I po co to pani Telimena od stołu,\n",
      "A w każdej powieść, które z powodu podniesiony,\n",
      "I po co się z nim stało w pole, szczęśliwy do góry,\n",
      "I z przyczyny S\n"
     ]
    },
    {
     "name": "stderr",
     "output_type": "stream",
     "text": [
      "\n"
     ]
    }
   ],
   "source": [
    "from tqdm.auto import tqdm\n",
    "\n",
    "for epoch in tqdm(range(epochs)):\n",
    "    pro.train()\n",
    "    hidden = None\n",
    "\n",
    "    for i in range(0, train_data.size(0) - 1 - seq_len, seq_len):\n",
    "\n",
    "        X = train_data[i:i+seq_len]\n",
    "        y = train_data[i+1:i+1+seq_len].view(-1)\n",
    "        \n",
    "\n",
    "        optimizer.zero_grad()\n",
    "        y_hat, hidden = pro(X, hidden)\n",
    "        \n",
    "\n",
    "        hidden = (hidden[0].detach(), hidden[1].detach())\n",
    "        \n",
    "\n",
    "        loss = criterion(y_hat.view(-1, vocab_size), y)\n",
    "        \n",
    "        loss.backward()\n",
    "        optimizer.step()\n",
    "\n",
    "    pro.eval()\n",
    "    hidden = None\n",
    "    \n",
    "    with torch.no_grad():\n",
    "        for i in range(0, valid_data.size(0) - 1 - seq_len, seq_len):\n",
    "            X = valid_data[i:i+seq_len]\n",
    "            y = valid_data[i+1:i+1+seq_len].view(-1)\n",
    "            \n",
    "            y_hat, hidden = pro(X, hidden)\n",
    "            hidden = (hidden[0].detach(), hidden[1].detach())\n",
    "            \n",
    "            loss = criterion(y_hat.view(-1, vocab_size), y)\n",
    "\n",
    "    if (epoch+1)%3==0:\n",
    "        print(generate_text(pro, \"Jam jest Jacek\", char_to_id, id_to_char, device, length=350))\n"
   ]
  }
 ],
 "metadata": {
  "kernelspec": {
   "display_name": "Python 3 (ipykernel)",
   "language": "python",
   "name": "python3"
  },
  "language_info": {
   "codemirror_mode": {
    "name": "ipython",
    "version": 3
   },
   "file_extension": ".py",
   "mimetype": "text/x-python",
   "name": "python",
   "nbconvert_exporter": "python",
   "pygments_lexer": "ipython3",
   "version": "3.12.4"
  }
 },
 "nbformat": 4,
 "nbformat_minor": 5
}
